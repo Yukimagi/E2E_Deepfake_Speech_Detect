{
 "cells": [
  {
   "cell_type": "code",
   "execution_count": 14,
   "id": "875b445b",
   "metadata": {},
   "outputs": [],
   "source": [
    "import os\n",
    "import shutil\n",
    "import pandas as pd\n",
    "import numpy as np\n",
    "import librosa \n",
    "import librosa.display\n",
    "import soundfile as sf\n",
    "import matplotlib.pyplot as plt\n",
    "import IPython.display as ipd\n",
    "from tqdm.notebook import tqdm\n",
    "import tensorflow as tf\n",
    "import warnings\n",
    "warnings.filterwarnings(\"ignore\")\n",
    "from tensorflow.keras.utils import to_categorical\n",
    "from tensorflow.keras.models import load_model\n",
    "from sklearn.metrics import accuracy_score"
   ]
  },
  {
   "cell_type": "code",
   "execution_count": 19,
   "id": "54c629a9",
   "metadata": {},
   "outputs": [],
   "source": [
    "#預強調\n",
    "def pre_emphasis(audio,coef):\n",
    "    emphasized_signal = librosa.effects.preemphasis(y=audio,coef=coef)\n",
    "\n",
    "    return emphasized_signal"
   ]
  },
  {
   "cell_type": "code",
   "execution_count": 20,
   "id": "a2fbb57d",
   "metadata": {},
   "outputs": [],
   "source": [
    "# #MFCC \n",
    "def extract_mfcc(audio,sr,n_mfcc):\n",
    "    mfcc = librosa.feature.mfcc(y=audio, sr=sr, n_mfcc=n_mfcc)#列=特徵維度，行=時間維度\n",
    "    return mfcc"
   ]
  },
  {
   "cell_type": "code",
   "execution_count": 21,
   "id": "f2e4196c",
   "metadata": {},
   "outputs": [],
   "source": [
    "def feature_with_delta(feature):\n",
    "    delta = librosa.feature.delta(data=feature,width=7, order=1)\n",
    "    delta_delta = librosa.feature.delta(data=feature, width=7,order=2)\n",
    "    \n",
    "    feature = np.concatenate((feature, delta, delta_delta), axis=0)\n",
    "    return feature"
   ]
  },
  {
   "cell_type": "code",
   "execution_count": 22,
   "id": "b59ff9eb",
   "metadata": {
    "scrolled": false
   },
   "outputs": [
    {
     "name": "stdout",
     "output_type": "stream",
     "text": [
      "1/1 [==============================] - 1s 1s/step\n",
      "此樣本為真音\n"
     ]
    }
   ],
   "source": [
    "#載入模型\n",
    "model = load_model(\"SEResNet.h5\")\n",
    "#載入樣本\n",
    "\n",
    "sample_audio_path = '真音/LA_T_1341447.flac'#示範\n",
    "audio, sr = librosa.load(sample_audio_path, mono=True, sr=None)\n",
    "audio = pre_emphasis(audio=audio,coef=0.97)\n",
    "\n",
    "#將音頻長度統一至6秒(16000*6)\n",
    "fixed_audio = audio\n",
    "max_len = 16000*6\n",
    "\n",
    "while len(fixed_audio) <= max_len:\n",
    "    fixed_audio = np.concatenate((fixed_audio,audio),axis=0)\n",
    "audio = fixed_audio[:max_len]\n",
    "feature = extract_mfcc(audio=audio,sr=sr,n_mfcc=20)\n",
    "feature = feature_with_delta(feature=feature)\n",
    "# 使用reshape方法添加额外的维度\n",
    "X = feature.T.reshape((1, feature.shape[1], feature.shape[0]))\n",
    "pred = model.predict(X)\n",
    "pred_classes = np.argmax(pred, axis=1)\n",
    "print('此樣本為真音') if pred_classes==0 else print('此樣本為假音')"
   ]
  },
  {
   "cell_type": "code",
   "execution_count": null,
   "id": "7c34932b",
   "metadata": {},
   "outputs": [],
   "source": []
  }
 ],
 "metadata": {
  "kernelspec": {
   "display_name": "Python 3 (ipykernel)",
   "language": "python",
   "name": "python3"
  },
  "language_info": {
   "codemirror_mode": {
    "name": "ipython",
    "version": 3
   },
   "file_extension": ".py",
   "mimetype": "text/x-python",
   "name": "python",
   "nbconvert_exporter": "python",
   "pygments_lexer": "ipython3",
   "version": "3.11.5"
  }
 },
 "nbformat": 4,
 "nbformat_minor": 5
}
